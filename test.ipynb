{
 "cells": [
  {
   "cell_type": "code",
   "execution_count": 1,
   "metadata": {
    "collapsed": true
   },
   "outputs": [
    {
     "name": "stderr",
     "output_type": "stream",
     "text": [
      "/Users/jbsimoes/.pyenv/versions/miniforge3-4.10.3-10/envs/vessel-rnn-m1-gpu/lib/python3.10/site-packages/tqdm/auto.py:22: TqdmWarning: IProgress not found. Please update jupyter and ipywidgets. See https://ipywidgets.readthedocs.io/en/stable/user_install.html\n",
      "  from .autonotebook import tqdm as notebook_tqdm\n"
     ]
    }
   ],
   "source": [
    "import os\n",
    "import random\n",
    "\n",
    "import networkx as nx\n",
    "import numpy as np\n",
    "import torch\n",
    "\n",
    "import plotly.graph_objects as go"
   ]
  },
  {
   "cell_type": "code",
   "execution_count": 2,
   "outputs": [],
   "source": [
    "DEFAULT_RADIUS = 3\n",
    "DEFAULT_COLOR = 'yellow'\n",
    "\n",
    "\n",
    "def draw_3d_vessel_network(nx_vessel_network, nodes_pos, edges_radius=None, nodes_groups=None):\n",
    "    coordinates_by_node = {node_id: coordinate for node_id, coordinate in enumerate(nodes_pos)}\n",
    "\n",
    "    groups = []\n",
    "    if nodes_groups:\n",
    "        for group in nodes_groups:\n",
    "            groups.append({\n",
    "                'nodes_x': [coordinates_by_node[i][0] for i in group['nodes']],\n",
    "                'nodes_y': [coordinates_by_node[i][1] for i in group['nodes']],\n",
    "                'nodes_z': [coordinates_by_node[i][2] for i in group['nodes']],\n",
    "                'color': group['color'],\n",
    "                'opacity': group['opacity']\n",
    "            })\n",
    "\n",
    "    x_nodes = [coordinates_by_node[i][0] for i in range(len(coordinates_by_node))]  # x-coordinates of nodes\n",
    "    y_nodes = [coordinates_by_node[i][1] for i in range(len(coordinates_by_node))]  # y-coordinates\n",
    "    z_nodes = [coordinates_by_node[i][2] for i in range(len(coordinates_by_node))]  # z-coordinates\n",
    "\n",
    "    # we  need to create lists that contain the starting and ending coordinates of each edge.\n",
    "    x_edges = []\n",
    "    y_edges = []\n",
    "    z_edges = []\n",
    "\n",
    "    for edge in nx_vessel_network.edges():\n",
    "        # format: [beginning,ending,None]\n",
    "        x_coords = [coordinates_by_node[edge[0]][0], coordinates_by_node[edge[1]][0], None]\n",
    "        x_edges += x_coords\n",
    "\n",
    "        y_coords = [coordinates_by_node[edge[0]][1], coordinates_by_node[edge[1]][1], None]\n",
    "        y_edges += y_coords\n",
    "\n",
    "        z_coords = [coordinates_by_node[edge[0]][2], coordinates_by_node[edge[1]][2], None]\n",
    "        z_edges += z_coords\n",
    "\n",
    "    trace_edges = []\n",
    "    for edge_idx in range(0, len(nx_vessel_network.edges())):\n",
    "        start_pos = edge_idx * 3\n",
    "        x_edge = x_edges[start_pos:start_pos + 3]\n",
    "        y_edge = y_edges[start_pos:start_pos + 3]\n",
    "        z_edge = z_edges[start_pos:start_pos + 3]\n",
    "\n",
    "        if edges_radius is not None:\n",
    "            edge_radius = edges_radius[edge_idx]\n",
    "        else:\n",
    "            edge_radius = DEFAULT_RADIUS\n",
    "\n",
    "        # Create a trace for the edges\n",
    "        trace_edges.append(\n",
    "            go.Scatter3d(x=x_edge, y=y_edge, z=z_edge, mode='lines', line=dict(color='rgba(255, 255, 255, 0.5)',\n",
    "                                                                               width=edge_radius * 2),\n",
    "                         hoverinfo='none'))\n",
    "\n",
    "    trace_nodes = []\n",
    "    if nodes_groups:\n",
    "        for group in groups:\n",
    "            trace_nodes.append(go.Scatter3d(x=group['nodes_x'], y=group['nodes_y'], z=group['nodes_z'], mode='markers',\n",
    "                                            marker=dict(symbol='circle', size=5, color=group['color']),\n",
    "                                            opacity=group['opacity']\n",
    "                                            # line=dict(color='black', width=0.5)),\n",
    "                                            ))\n",
    "    else:\n",
    "        # Create a trace for the nodes\n",
    "        trace_nodes.append(go.Scatter3d(x=x_nodes, y=y_nodes, z=z_nodes, mode='markers',\n",
    "                                        marker=dict(symbol='circle', size=5, color='lightgreen'),\n",
    "                                        # line=dict(color='black', width=0.5)),\n",
    "                                        ))\n",
    "\n",
    "    axis = dict(showbackground=False, showline=False, zeroline=False, showgrid=False, showticklabels=False, title='')\n",
    "\n",
    "    layout = go.Layout(title=\"Vascular Networks\", width=650, height=625, showlegend=False, scene=dict(xaxis=dict(axis),\n",
    "                                                                                                      yaxis=dict(axis),\n",
    "                                                                                                      zaxis=dict(axis),\n",
    "                                                                                                      ),\n",
    "                       margin=dict(t=100),\n",
    "                       hovermode='closest')\n",
    "\n",
    "    data = [*trace_edges, *trace_nodes]\n",
    "    fig = go.Figure(data=data, layout=layout)\n",
    "\n",
    "    return fig\n"
   ],
   "metadata": {
    "collapsed": false
   }
  },
  {
   "cell_type": "code",
   "execution_count": 3,
   "outputs": [],
   "source": [
    "HIDDEN_SIZE = 512\n",
    "NUM_LAYERS = 4\n",
    "NUM_FEATURES = 202\n",
    "MAX_PATHS_FOR_EACH_REACHABLE_NODE = 2\n",
    "MAX_NUM_INPUT_PATHS = 4\n",
    "MAX_NUM_INPUT_NODES = 7\n",
    "MAX_NUM_OUTPUT_NODES = 10\n",
    "CHECKPOINT_SAVE_PATH = '.'\n",
    "CHECKPOINT_SAVE_NAME = 'checkpoint.pt'\n",
    "CHECKPOINT_SAVE_PATH = os.path.join(CHECKPOINT_SAVE_PATH, CHECKPOINT_SAVE_NAME)"
   ],
   "metadata": {
    "collapsed": false
   }
  },
  {
   "cell_type": "code",
   "execution_count": 4,
   "outputs": [],
   "source": [
    "torch.manual_seed(42)\n",
    "random.seed(42)\n",
    "np.random.seed(42)"
   ],
   "metadata": {
    "collapsed": false
   }
  },
  {
   "cell_type": "code",
   "execution_count": null,
   "outputs": [],
   "source": [
    "from sgg.model import GraphEncoderRNN, GraphDecoderRNN\n",
    "\n",
    "encoder_rnn = GraphEncoderRNN(n_dimensions=3, hidden_size=HIDDEN_SIZE, num_layers=NUM_LAYERS, coordinates_range=NUM_FEATURES)\n",
    "decoder_rnn = GraphDecoderRNN(n_dimensions=3, hidden_size=HIDDEN_SIZE, num_layers=NUM_LAYERS, coordinates_range=NUM_FEATURES)"
   ],
   "metadata": {
    "collapsed": false
   }
  }
 ],
 "metadata": {
  "kernelspec": {
   "display_name": "Python 3",
   "language": "python",
   "name": "python3"
  },
  "language_info": {
   "codemirror_mode": {
    "name": "ipython",
    "version": 2
   },
   "file_extension": ".py",
   "mimetype": "text/x-python",
   "name": "python",
   "nbconvert_exporter": "python",
   "pygments_lexer": "ipython2",
   "version": "2.7.6"
  }
 },
 "nbformat": 4,
 "nbformat_minor": 0
}
